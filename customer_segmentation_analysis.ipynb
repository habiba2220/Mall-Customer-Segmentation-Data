https://colab.research.google.com/drive/1dK1HSbnFhAA_ly-VXpN75_pJIKq9-yMU?authuser=0#scrollTo=YkcjtfL8K8_p

# Import necessary libraries
import pandas as pd
import numpy as np
import matplotlib.pyplot as plt
import seaborn as sns
from sklearn.preprocessing import StandardScaler
from sklearn.cluster import KMeans, DBSCAN
from sklearn.metrics import silhouette_score
import warnings
warnings.filterwarnings('ignore')
df=pd.read_csv('/content/Mall_Customers.csv')
print(df.columns)
print("\nMissing values:")
print(df.isnull().sum())
X = df[['Annual Income (k$)', 'Spending Score (1-100)']]
scaler = StandardScaler()
X_scaled = scaler.fit_transform(X)
wcss = []  # Within-Cluster Sum of Squares
cluster_range = range(1, 11)
for i in cluster_range:
    kmeans = KMeans(n_clusters=i, init='k-means++', random_state=42, n_init=10)
    kmeans.fit(X_scaled)
    wcss.append(kmeans.inertia_)
plt.figure(figsize=(10, 6))
plt.plot(cluster_range, wcss, marker='o', linestyle='--')
plt.title('Elbow Method for Optimal Number of Clusters')
plt.xlabel('Number of Clusters')
plt.ylabel('WCSS')
plt.xticks(cluster_range)
plt.show()
optimal_clusters = 5
kmeans = KMeans(n_clusters=optimal_clusters, init='k-means++', random_state=42, n_init=10)
clusters = kmeans.fit_predict(X_scaled)
df['Cluster'] = clusters
plt.figure(figsize=(12, 8))
for cluster in range(optimal_clusters):
    cluster_data = df[df['Cluster'] == cluster]
    plt.scatter(cluster_data['Annual Income (k$)'], 
                cluster_data['Spending Score (1-100)'], 
                s=100, label=f'Cluster {cluster}', alpha=0.7)
centers = scaler.inverse_transform(kmeans.cluster_centers_)
plt.scatter(centers[:, 0], centers[:, 1], s=300, c='yellow', 
            label='Centroids', marker='X', edgecolor='black')

plt.title('Customer Segments based on Income and Spending')
plt.xlabel('Annual Income (k$)')
plt.ylabel('Spending Score (1-100)')
plt.legend()
plt.show()
cluster_summary = df.groupby('Cluster').agg({
    'Annual Income (k$)': ['mean', 'count'],
    'Spending Score (1-100)': 'mean',
    'Age': 'mean'
}).round(2)

print("Cluster Summary:")
print(cluster_summary)
print("\nCluster Interpretation:")
print("Cluster 0: Medium Income, Medium Spending")
print("Cluster 1: High Income, Low Spending")
print("Cluster 2: Low Income, Low Spending")
print("Cluster 3: Low Income, High Spending")
print("Cluster 4: High Income, High Spending")
# 10. Bonus: Average spending per cluster
avg_spending = df.groupby('Cluster')['Spending Score (1-100)'].mean().sort_values(ascending=False)

plt.figure(figsize=(10, 6))
avg_spending.plot(kind='bar', color='lightgreen')
plt.title('Average Spending Score by Cluster')
plt.xlabel('Cluster')
plt.ylabel('Average Spending Score')
plt.xticks(rotation=0)
plt.show()

print("\nAverage Spending by Cluster:")
for cluster, spending in avg_spending.items():
    print(f"Cluster {cluster}: {spending:.2f}")
